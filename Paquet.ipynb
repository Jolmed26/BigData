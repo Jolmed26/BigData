{
 "cells": [
  {
   "cell_type": "markdown",
   "metadata": {},
   "source": [
    "$ \\P(X = k) = \\binom{n}{k} \\cdot p^k \\cdot (1 - p)^{n - k} \\\\ $\n",
    "$ P(X = k) & \\text{ es la probabilidad de obtener exactamente } k \\text{ éxitos.} \\\\ $\n",
    "$ n & \\text{ es el número de ensayos.} \\\\ $\n",
    "$ k & \\text{ es la cantidad de éxitos.} \\\\ $\n",
    "$ p & \\text{ es la probabilidad de éxito en cada ensayo.} \\\\ $\n",
    "$ \\binom{n}{k} & \\text{ representa el coeficiente binomial, calculado como } \\binom{n}{k} = \\frac{n!}{k!(n-k)!}. $\n",
    "$ \\end{align*} $"
   ]
  },
  {
   "cell_type": "code",
   "execution_count": 4,
   "metadata": {},
   "outputs": [],
   "source": [
    "import numpy as np\n",
    "\n",
    "from pylatex import Document, Section, Subsection, Tabular, Math, TikZ, Axis, \\\n",
    "    Plot, Figure, Matrix, Alignat\n",
    "from pylatex.utils import italic\n",
    "import os"
   ]
  },
  {
   "cell_type": "code",
   "execution_count": 5,
   "metadata": {},
   "outputs": [
    {
     "ename": "SyntaxError",
     "evalue": "unexpected character after line continuation character (1574541390.py, line 1)",
     "output_type": "error",
     "traceback": [
      "\u001b[1;36m  Cell \u001b[1;32mIn[5], line 1\u001b[1;36m\u001b[0m\n\u001b[1;33m    \\P(X = k) = \\binom{n}{k} \\cdot p^k \\cdot (1 - p)^{n - k} \\\\\u001b[0m\n\u001b[1;37m     ^\u001b[0m\n\u001b[1;31mSyntaxError\u001b[0m\u001b[1;31m:\u001b[0m unexpected character after line continuation character\n"
     ]
    }
   ],
   "source": [
    "\\P(X = k) = \\binom{n}{k} \\cdot p^k \\cdot (1 - p)^{n - k} \\\\\n",
    "\\text{Donde: }\\\\\n",
    "\\begin{align*}\n",
    "P(X = k) & \\text{ es la probabilidad de obtener exactamente } k \\text{ éxitos.} \\\\\n",
    "n & \\text{ es el número de ensayos.} \\\\\n",
    "k & \\text{ es la cantidad de éxitos.} \\\\\n",
    "p & \\text{ es la probabilidad de éxito en cada ensayo.} \\\\\n",
    "\\binom{n}{k} & \\text{ representa el coeficiente binomial, calculado como } \\binom{n}{k} = \\frac{n!}{k!(n-k)!}.\n",
    "\\end{align*}\n"
   ]
  }
 ],
 "metadata": {
  "kernelspec": {
   "display_name": "m_gbd_ejercicios",
   "language": "python",
   "name": "python3"
  },
  "language_info": {
   "codemirror_mode": {
    "name": "ipython",
    "version": 3
   },
   "file_extension": ".py",
   "mimetype": "text/x-python",
   "name": "python",
   "nbconvert_exporter": "python",
   "pygments_lexer": "ipython3",
   "version": "3.10.13"
  }
 },
 "nbformat": 4,
 "nbformat_minor": 2
}
